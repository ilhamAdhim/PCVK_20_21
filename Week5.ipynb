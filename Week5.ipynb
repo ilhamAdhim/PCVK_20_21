{
  "nbformat": 4,
  "nbformat_minor": 0,
  "metadata": {
    "colab": {
      "name": "Week5.ipynb",
      "provenance": [],
      "mount_file_id": "1nAnmpVOgDi0MAk3JArcu4eM1C5jgH-Sg",
      "authorship_tag": "ABX9TyMsH0XIw66Az0Wos4QNa0AY",
      "include_colab_link": true
    },
    "kernelspec": {
      "name": "python3",
      "display_name": "Python 3"
    }
  },
  "cells": [
    {
      "cell_type": "markdown",
      "metadata": {
        "id": "view-in-github",
        "colab_type": "text"
      },
      "source": [
        "<a href=\"https://colab.research.google.com/github/ilhamAdhim/PCVK_20_21/blob/main/Week5.ipynb\" target=\"_parent\"><img src=\"https://colab.research.google.com/assets/colab-badge.svg\" alt=\"Open In Colab\"/></a>"
      ]
    },
    {
      "cell_type": "code",
      "metadata": {
        "id": "VlXl1E7RCmRt"
      },
      "source": [
        "print('Gamma Correction in images')\r\n",
        "print('---------------------------')\r\n",
        "\r\n",
        "try: \r\n",
        "  gamma = int(input('Input gamma value: '))\r\n",
        "except ValueError:\r\n",
        "  print('Error, not a number')\r\n",
        "\r\n",
        "image = cv.imread('/content/drive/MyDrive/PCVK/female.tiff')\r\n",
        "gamma_img = np.zeros(image.shape, image.dtype)\r\n",
        "\r\n",
        "for x in range(image.shape[0]):\r\n",
        "  for y in range(image.shape[1]):\r\n",
        "    for z in range(image.shape[2]):\r\n",
        "      correction = 255*((image[x,y,z]/255)** (1/gamma))\r\n",
        "      gamma_img[x,y,z] = np.clip(correction, 0, 255)\r\n",
        "\r\n",
        "frame = cv.hconcat((image, gamma_img))\r\n",
        "cv2_imshow(frame)"
      ],
      "execution_count": null,
      "outputs": []
    }
  ]
}